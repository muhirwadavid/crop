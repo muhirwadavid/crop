{
 "cells": [
  {
   "cell_type": "code",
   "execution_count": 7,
   "id": "fcdb69f5",
   "metadata": {},
   "outputs": [],
   "source": [
    "from flask import Flask, request, render_template\n",
    "import joblib\n",
    "import numpy as np\n",
    "from werkzeug.serving import run_simple"
   ]
  },
  {
   "cell_type": "code",
   "execution_count": null,
   "id": "4bbe2d44",
   "metadata": {},
   "outputs": [
    {
     "name": "stderr",
     "output_type": "stream",
     "text": [
      "WARNING: This is a development server. Do not use it in a production deployment. Use a production WSGI server instead.\n",
      " * Running on http://localhost:5000\n",
      "Press CTRL+C to quit\n",
      "127.0.0.1 - - [20/Aug/2024 15:34:11] \"GET / HTTP/1.1\" 200 -\n",
      "127.0.0.1 - - [20/Aug/2024 15:34:15] \"GET / HTTP/1.1\" 200 -\n",
      "127.0.0.1 - - [20/Aug/2024 15:34:17] \"GET /form HTTP/1.1\" 200 -\n",
      "C:\\ProgramData\\anaconda3\\Lib\\site-packages\\sklearn\\base.py:464: UserWarning: X does not have valid feature names, but RandomForestClassifier was fitted with feature names\n",
      "  warnings.warn(\n",
      "127.0.0.1 - - [20/Aug/2024 15:34:24] \"POST /predict HTTP/1.1\" 200 -\n",
      "127.0.0.1 - - [20/Aug/2024 15:34:30] \"GET /form HTTP/1.1\" 200 -\n",
      "127.0.0.1 - - [20/Aug/2024 15:34:33] \"GET / HTTP/1.1\" 200 -\n"
     ]
    }
   ],
   "source": [
    "app = Flask(__name__)\n",
    "#app.config['DEBUG'] = True\n",
    "model = joblib.load('rf_model.pkl')\n",
    "@app.route('/')\n",
    "def home():\n",
    "    return render_template('home.html')\n",
    "@app.route('/form')\n",
    "def form():\n",
    "    return render_template('index.html')\n",
    "\n",
    "@app.route('/predict', methods=['POST'])\n",
    "def predict():\n",
    "    \n",
    "    user_input = [float(x) for x in request.form.values()]\n",
    "\n",
    "   # Convert input to numpy array and reshape it to fit the model\n",
    "    input_array = np.array(user_input).reshape(1, -1)\n",
    "   \n",
    "    # Predict the result using the loaded model\n",
    "    prediction = model.predict(input_array)\n",
    "   \n",
    "    # Return the result to the user\n",
    "    return render_template('index.html', prediction_text=f'Predicted result: {prediction[0]}')\n",
    "\n",
    "if __name__ == '__main__':\n",
    "    run_simple('localhost',5000,app)"
   ]
  },
  {
   "cell_type": "code",
   "execution_count": null,
   "id": "77513fde",
   "metadata": {},
   "outputs": [],
   "source": []
  }
 ],
 "metadata": {
  "kernelspec": {
   "display_name": "Python 3 (ipykernel)",
   "language": "python",
   "name": "python3"
  },
  "language_info": {
   "codemirror_mode": {
    "name": "ipython",
    "version": 3
   },
   "file_extension": ".py",
   "mimetype": "text/x-python",
   "name": "python",
   "nbconvert_exporter": "python",
   "pygments_lexer": "ipython3",
   "version": "3.11.5"
  }
 },
 "nbformat": 4,
 "nbformat_minor": 5
}
